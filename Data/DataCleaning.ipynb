{
 "cells": [
  {
   "cell_type": "markdown",
   "metadata": {},
   "source": [
    "# COVID-19 Data Cleaning Script"
   ]
  },
  {
   "cell_type": "markdown",
   "metadata": {},
   "source": [
    "### Imports"
   ]
  },
  {
   "cell_type": "code",
   "execution_count": null,
   "metadata": {},
   "outputs": [],
   "source": [
    "import pandas as pd\n",
    "import numpy as np"
   ]
  },
  {
   "cell_type": "markdown",
   "metadata": {},
   "source": [
    "### Loading Data"
   ]
  },
  {
   "cell_type": "code",
   "execution_count": null,
   "metadata": {},
   "outputs": [],
   "source": [
    "# Load the CSV\n",
    "df = pd.read_csv(\"Covid Data.csv\")"
   ]
  },
  {
   "cell_type": "markdown",
   "metadata": {},
   "source": [
    "### Print functions to understand data"
   ]
  },
  {
   "cell_type": "code",
   "execution_count": null,
   "metadata": {},
   "outputs": [],
   "source": [
    "def printColumnValueCounts(df):\n",
    "    for col in df.columns:\n",
    "        print(f\"Value counts for '{col}':\")\n",
    "        print(df[col].value_counts(dropna=False))\n",
    "        print(\"-\" * 50)  # Adds a separator for readability\n",
    "        \n",
    "def summarize_dataframe(df, num_unique_threshold=20):\n",
    "    \"\"\"\n",
    "    For each column in the DataFrame:\n",
    "      - If the column is numeric (dtype is int/float) and has more than `num_unique_threshold`\n",
    "        unique (non-null) values, compute its mean and standard deviation.\n",
    "      - Otherwise, treat it as categorical/boolean and compute the percentage breakdown\n",
    "        of its values (including NaNs).\n",
    "      \n",
    "      Additionally, for every column, include the raw value counts (with NaNs included).\n",
    "      \n",
    "    Returns:\n",
    "      A dictionary with column names as keys and a summary dictionary as values.\n",
    "    \"\"\"\n",
    "    summary = {}\n",
    "    \n",
    "    for col in df.columns:\n",
    "        col_summary = {}\n",
    "        \n",
    "        # Compute value counts (including NaN)\n",
    "        counts = df[col].value_counts(dropna=False)\n",
    "        counts_dict = {}\n",
    "        for key, value in counts.items():\n",
    "            # Convert NaN key to a string for clarity\n",
    "            if pd.isna(key):\n",
    "                counts_dict['NaN'] = value\n",
    "            else:\n",
    "                counts_dict[key] = value\n",
    "        col_summary['Value Counts'] = counts_dict\n",
    "        \n",
    "        # Also compute the percentage breakdown of values (including NaN)\n",
    "        total = counts.sum()\n",
    "        perc_breakdown = (counts / total * 100).round(2)\n",
    "        perc_dict = {}\n",
    "        for key, value in perc_breakdown.items():\n",
    "            if pd.isna(key):\n",
    "                perc_dict['NaN'] = f\"{value}%\"\n",
    "            else:\n",
    "                perc_dict[key] = f\"{value}%\"\n",
    "        \n",
    "        # Determine if we treat the column as numeric or categorical\n",
    "        num_unique = df[col].nunique(dropna=True)\n",
    "        if pd.api.types.is_numeric_dtype(df[col]) and num_unique > num_unique_threshold:\n",
    "            col_summary['Type'] = 'Numeric'\n",
    "            col_summary['Mean'] = df[col].mean(skipna=True)\n",
    "            col_summary['Standard Deviation'] = df[col].std(skipna=True)\n",
    "        else:\n",
    "            col_summary['Type'] = 'Categorical'\n",
    "            col_summary['Percentage Breakdown'] = perc_dict\n",
    "        \n",
    "        summary[col] = col_summary\n",
    "        \n",
    "    return summary\n",
    "\n",
    "def printSummary(summaryDict):\n",
    "    for col, summ in summaryDict.items():\n",
    "      print(f\"Summary for '{col}':\")\n",
    "      print(\"  Value Counts:\")\n",
    "      for val, count in summ['Value Counts'].items():\n",
    "          print(f\"    {val}: {count}\")\n",
    "      \n",
    "      print(f\"  Type: {summ['Type']}\")\n",
    "      if summ['Type'] == 'Numeric':\n",
    "          print(f\"  Mean: {summ['Mean']:.2f}\")\n",
    "          print(f\"  Standard Deviation: {summ['Standard Deviation']:.2f}\")\n",
    "      else:\n",
    "          print(\"  Percentage Breakdown:\")\n",
    "          for val, perc in summ['Percentage Breakdown'].items():\n",
    "              print(f\"    {val}: {perc}\")\n",
    "      print(\"-\" * 50)"
   ]
  },
  {
   "cell_type": "code",
   "execution_count": null,
   "metadata": {},
   "outputs": [],
   "source": [
    "printColumnValueCounts(df)"
   ]
  },
  {
   "cell_type": "markdown",
   "metadata": {},
   "source": [
    "### Cleaning Columns\n",
    "In the Boolean features, 1 means \"yes\" and 2 means \"no\". values as 97-99 are missing data.\n",
    "\n",
    "In boolean categorical columns, 97 - 98 is unknown, so we set those to NAN.\n",
    "\n",
    "For PREGNANT, all males should have NAN, and then we should not allow women to be unknown, so we set then to -1 to make them as invalid. rows that contain -1 will be dropped later. \n",
    "\n",
    "DATE_DIED get's remapped to be DIED. If a person has a invalid date of death (9999-99-99), they did not die. \n",
    "\n",
    "PNEUMONIA is an output column. It cannot have unknown values. Mark those as -1 to be dropped later. \n",
    "\n",
    "Dataset specified that if CLASIFFICATION_FINAL was higher than 3, it meant a patient did not have COVID."
   ]
  },
  {
   "cell_type": "code",
   "execution_count": null,
   "metadata": {},
   "outputs": [],
   "source": [
    "# Columns where 97, 98, and 99 should be set to NaN\n",
    "columns_to_nan = [\n",
    "    \"ASTHMA\", \"CARDIOVASCULAR\", \"COPD\", \"DIABETES\", \"HIPERTENSION\", \"ICU\", \n",
    "    \"INTUBED\", \"INMSUPR\", \"OBESITY\", \"OTHER_DISEASE\", \"RENAL_CHRONIC\", \"TOBACCO\"\n",
    "]\n",
    "df[columns_to_nan] = df[columns_to_nan].replace({97: np.nan, 98: np.nan, 99: np.nan})\n",
    "\n",
    "# Handle 'PREGNANT' column\n",
    "df.loc[df[\"SEX\"] == 2, \"PREGNANT\"] = np.nan  # If male, set PREGNANT to NaN\n",
    "df.loc[(df[\"SEX\"] == 1) & (df[\"PREGNANT\"].isin([97, 98])), \"PREGNANT\"] = -1  # If female and 97 or 98, set to -1\n",
    "\n",
    "# Process 'DATE_DIED'\n",
    "df[\"DATE_DIED\"] = df[\"DATE_DIED\"].apply(lambda x: 2 if x == \"9999-99-99\" else 1)\n",
    "\n",
    "# Process 'PNEUMONIA'\n",
    "df[\"PNEUMONIA\"] = df[\"PNEUMONIA\"].replace(99, -1)\n",
    "\n",
    "# Process 'CLASIFFICATION_FINAL'\n",
    "df[\"CLASIFFICATION_FINAL\"] = df[\"CLASIFFICATION_FINAL\"].apply(lambda x: x if x in [1, 2, 3] else 0)"
   ]
  },
  {
   "cell_type": "code",
   "execution_count": null,
   "metadata": {},
   "outputs": [],
   "source": [
    "printColumnValueCounts(df)"
   ]
  },
  {
   "cell_type": "markdown",
   "metadata": {},
   "source": [
    "### Removing any columns where we had invalid values\n"
   ]
  },
  {
   "cell_type": "code",
   "execution_count": null,
   "metadata": {},
   "outputs": [],
   "source": [
    "df = df[~df.isin([-1]).any(axis=1)]"
   ]
  },
  {
   "cell_type": "code",
   "execution_count": null,
   "metadata": {},
   "outputs": [],
   "source": [
    "printColumnValueCounts(df)"
   ]
  },
  {
   "cell_type": "markdown",
   "metadata": {},
   "source": [
    "### Creating new target column \n",
    "\n",
    "This turns the CLASIFFICATION_FINAL into a binary classification of COVID-19 PRESENCE"
   ]
  },
  {
   "cell_type": "code",
   "execution_count": null,
   "metadata": {},
   "outputs": [],
   "source": [
    "# Create 'COVID-19 PRESENCE' column based on 'COVID-19 SEVERITY'\n",
    "df[\"COVID-19 PRESENCE\"] = df[\"CLASIFFICATION_FINAL\"].map({1: 1, 2: 1, 3: 1, 0: 2})"
   ]
  },
  {
   "cell_type": "markdown",
   "metadata": {},
   "source": [
    "### Renaming Columns for Clarity"
   ]
  },
  {
   "cell_type": "code",
   "execution_count": null,
   "metadata": {},
   "outputs": [],
   "source": [
    "# Rename columns\n",
    "df = df.rename(columns={\n",
    "    \"HIPERTENSION\": \"HYPERTENSION\",\n",
    "    \"CLASIFFICATION_FINAL\": \"COVID-19 SEVERITY\"\n",
    "})\n",
    "\n",
    "# List of output columns that should be at the end\n",
    "output_columns = [\"COVID-19 PRESENCE\", \"COVID-19 SEVERITY\", \"DATE_DIED\", \"PNEUMONIA\"]\n",
    "\n",
    "# Get all columns sorted alphabetically, excluding the output columns\n",
    "sorted_columns = sorted([col for col in df.columns if col not in output_columns])\n",
    "\n",
    "# Create the new column order with output columns at the end\n",
    "new_column_order = sorted_columns + output_columns\n",
    "\n",
    "# Reorder the DataFrame\n",
    "df = df[new_column_order]"
   ]
  },
  {
   "cell_type": "markdown",
   "metadata": {},
   "source": [
    "### Data Summarization\n",
    "\n",
    "We view the data from the following subgroups:\n",
    "\n",
    "Original Data\n",
    "\n",
    "All Male Data\n",
    "\n",
    "All Female Data\n",
    "\n",
    "Non-pregnant Females\n",
    "\n",
    "Pregnant Females"
   ]
  },
  {
   "cell_type": "code",
   "execution_count": null,
   "metadata": {},
   "outputs": [],
   "source": [
    "all_data_summary = summarize_dataframe(df)\n",
    "printSummary(all_data_summary)"
   ]
  },
  {
   "cell_type": "code",
   "execution_count": null,
   "metadata": {},
   "outputs": [],
   "source": [
    "male_df = df[df[\"SEX\"] == 2]\n",
    "male_summary = summarize_dataframe(male_df)\n",
    "printSummary(male_summary)"
   ]
  },
  {
   "cell_type": "code",
   "execution_count": null,
   "metadata": {},
   "outputs": [],
   "source": [
    "female_df = df[df[\"SEX\"] == 1]\n",
    "female_summary = summarize_dataframe(female_df)\n",
    "printSummary(female_summary)"
   ]
  },
  {
   "cell_type": "code",
   "execution_count": null,
   "metadata": {},
   "outputs": [],
   "source": [
    "pregnant_female_df = female_df[female_df[\"PREGNANT\"] == 1]\n",
    "pregnant_female_summary = summarize_dataframe(pregnant_female_df)\n",
    "printSummary(pregnant_female_summary)"
   ]
  },
  {
   "cell_type": "code",
   "execution_count": null,
   "metadata": {},
   "outputs": [],
   "source": [
    "not_pregnant_female_df = female_df[female_df[\"PREGNANT\"] == 2]\n",
    "not_pregnant_female_summary = summarize_dataframe(not_pregnant_female_df)\n",
    "printSummary(not_pregnant_female_summary)"
   ]
  },
  {
   "cell_type": "code",
   "execution_count": null,
   "metadata": {},
   "outputs": [],
   "source": [
    "# # Save the Cleaned Data\n",
    "# df.to_excel(\"Cleaned Covid Data.xlsx\", index=False)"
   ]
  },
  {
   "cell_type": "markdown",
   "metadata": {},
   "source": [
    "# Considering INTUBED as Prediction Column \n",
    "\n",
    "Due to INTUBED having high NAN values, we did not want to consider it as both a potential feature and prediction column. In order to due so, we must drop all rows where Intubed is NAN. This greately reduces our dataset size. Additionally, it removes all data points where the patient returned home (PATIENT_TYPE=1) leaving only data points where a patient was hospitalized (PATIENT_TYPE=2)"
   ]
  },
  {
   "cell_type": "code",
   "execution_count": null,
   "metadata": {},
   "outputs": [],
   "source": [
    "# List of output columns that should be at the end\n",
    "output_columns = [\"COVID-19 PRESENCE\", \"COVID-19 SEVERITY\", \"DATE_DIED\", \"INTUBED\", \"PNEUMONIA\"]\n",
    "\n",
    "# Get all columns sorted alphabetically, excluding the output columns\n",
    "sorted_columns = sorted([col for col in df.columns if col not in output_columns])\n",
    "\n",
    "# Create the new column order with output columns at the end\n",
    "new_column_order = sorted_columns + output_columns\n",
    "\n",
    "# Reorder the DataFrame\n",
    "df = df[new_column_order]\n",
    "df = df.dropna(subset=['INTUBED'])"
   ]
  },
  {
   "cell_type": "markdown",
   "metadata": {},
   "source": [
    "### Data Summarization\n",
    "\n",
    "We view the data from the following subgroups:\n",
    "\n",
    "Original Data\n",
    "\n",
    "All Male Data\n",
    "\n",
    "All Female Data\n",
    "\n",
    "Non-pregnant Females\n",
    "\n",
    "Pregnant Females"
   ]
  },
  {
   "cell_type": "code",
   "execution_count": null,
   "metadata": {},
   "outputs": [],
   "source": [
    "all_data_summary = summarize_dataframe(df)\n",
    "printSummary(all_data_summary)"
   ]
  },
  {
   "cell_type": "code",
   "execution_count": null,
   "metadata": {},
   "outputs": [],
   "source": [
    "male_df = df[df[\"SEX\"] == 2]\n",
    "male_summary = summarize_dataframe(male_df)\n",
    "printSummary(male_summary)"
   ]
  },
  {
   "cell_type": "code",
   "execution_count": null,
   "metadata": {},
   "outputs": [],
   "source": [
    "female_df = df[df[\"SEX\"] == 1]\n",
    "female_summary = summarize_dataframe(female_df)\n",
    "printSummary(female_summary)"
   ]
  },
  {
   "cell_type": "code",
   "execution_count": null,
   "metadata": {},
   "outputs": [],
   "source": [
    "pregnant_female_df = female_df[female_df[\"PREGNANT\"] == 1]\n",
    "pregnant_female_summary = summarize_dataframe(pregnant_female_df)\n",
    "printSummary(pregnant_female_summary)"
   ]
  },
  {
   "cell_type": "code",
   "execution_count": null,
   "metadata": {},
   "outputs": [],
   "source": [
    "not_pregnant_female_df = female_df[female_df[\"PREGNANT\"] == 2]\n",
    "not_pregnant_female_summary = summarize_dataframe(not_pregnant_female_df)\n",
    "printSummary(not_pregnant_female_summary)"
   ]
  },
  {
   "cell_type": "code",
   "execution_count": null,
   "metadata": {},
   "outputs": [],
   "source": [
    "# # Save the Cleaned Data\n",
    "# df.to_excel(\"Cleaned Covid Data (Intubed as Prediction Col.).xlsx\", index=False)"
   ]
  }
 ],
 "metadata": {
  "kernelspec": {
   "display_name": "VIP",
   "language": "python",
   "name": "python3"
  },
  "language_info": {
   "codemirror_mode": {
    "name": "ipython",
    "version": 3
   },
   "file_extension": ".py",
   "mimetype": "text/x-python",
   "name": "python",
   "nbconvert_exporter": "python",
   "pygments_lexer": "ipython3",
   "version": "3.11.7"
  }
 },
 "nbformat": 4,
 "nbformat_minor": 2
}
